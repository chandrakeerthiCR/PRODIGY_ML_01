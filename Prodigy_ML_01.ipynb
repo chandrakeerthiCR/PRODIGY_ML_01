{
  "nbformat": 4,
  "nbformat_minor": 0,
  "metadata": {
    "colab": {
      "provenance": [],
      "authorship_tag": "ABX9TyPVVXv7PdE6FmLRBDJRtzbX",
      "include_colab_link": true
    },
    "kernelspec": {
      "name": "python3",
      "display_name": "Python 3"
    },
    "language_info": {
      "name": "python"
    }
  },
  "cells": [
    {
      "cell_type": "markdown",
      "metadata": {
        "id": "view-in-github",
        "colab_type": "text"
      },
      "source": [
        "<a href=\"https://colab.research.google.com/github/chandrakeerthiCR/PRODIGY_ML_01/blob/main/Prodigy_ML_01.ipynb\" target=\"_parent\"><img src=\"https://colab.research.google.com/assets/colab-badge.svg\" alt=\"Open In Colab\"/></a>"
      ]
    },
    {
      "cell_type": "code",
      "source": [
        "#1.Take a data and create the dataFrame\n",
        "import numpy as np\n",
        "import pandas as pd\n",
        "import matplotlib.pyplot as plt\n",
        "df=pd.read_csv('/content/sample_submission.csv')\n",
        "df"
      ],
      "metadata": {
        "colab": {
          "base_uri": "https://localhost:8080/",
          "height": 423
        },
        "id": "ciwQq8bidJ_J",
        "outputId": "7b8b2587-80be-40e0-d587-e4196cc32ef2"
      },
      "execution_count": null,
      "outputs": [
        {
          "output_type": "execute_result",
          "data": {
            "text/plain": [
              "        Id      SalePrice\n",
              "0     1461  169277.052498\n",
              "1     1462  187758.393989\n",
              "2     1463  183583.683570\n",
              "3     1464  179317.477511\n",
              "4     1465  150730.079977\n",
              "...    ...            ...\n",
              "1454  2915  167081.220949\n",
              "1455  2916  164788.778231\n",
              "1456  2917  219222.423400\n",
              "1457  2918  184924.279659\n",
              "1458  2919  187741.866657\n",
              "\n",
              "[1459 rows x 2 columns]"
            ],
            "text/html": [
              "\n",
              "  <div id=\"df-96a80059-f3a6-476f-b279-e2f890d2e3a8\" class=\"colab-df-container\">\n",
              "    <div>\n",
              "<style scoped>\n",
              "    .dataframe tbody tr th:only-of-type {\n",
              "        vertical-align: middle;\n",
              "    }\n",
              "\n",
              "    .dataframe tbody tr th {\n",
              "        vertical-align: top;\n",
              "    }\n",
              "\n",
              "    .dataframe thead th {\n",
              "        text-align: right;\n",
              "    }\n",
              "</style>\n",
              "<table border=\"1\" class=\"dataframe\">\n",
              "  <thead>\n",
              "    <tr style=\"text-align: right;\">\n",
              "      <th></th>\n",
              "      <th>Id</th>\n",
              "      <th>SalePrice</th>\n",
              "    </tr>\n",
              "  </thead>\n",
              "  <tbody>\n",
              "    <tr>\n",
              "      <th>0</th>\n",
              "      <td>1461</td>\n",
              "      <td>169277.052498</td>\n",
              "    </tr>\n",
              "    <tr>\n",
              "      <th>1</th>\n",
              "      <td>1462</td>\n",
              "      <td>187758.393989</td>\n",
              "    </tr>\n",
              "    <tr>\n",
              "      <th>2</th>\n",
              "      <td>1463</td>\n",
              "      <td>183583.683570</td>\n",
              "    </tr>\n",
              "    <tr>\n",
              "      <th>3</th>\n",
              "      <td>1464</td>\n",
              "      <td>179317.477511</td>\n",
              "    </tr>\n",
              "    <tr>\n",
              "      <th>4</th>\n",
              "      <td>1465</td>\n",
              "      <td>150730.079977</td>\n",
              "    </tr>\n",
              "    <tr>\n",
              "      <th>...</th>\n",
              "      <td>...</td>\n",
              "      <td>...</td>\n",
              "    </tr>\n",
              "    <tr>\n",
              "      <th>1454</th>\n",
              "      <td>2915</td>\n",
              "      <td>167081.220949</td>\n",
              "    </tr>\n",
              "    <tr>\n",
              "      <th>1455</th>\n",
              "      <td>2916</td>\n",
              "      <td>164788.778231</td>\n",
              "    </tr>\n",
              "    <tr>\n",
              "      <th>1456</th>\n",
              "      <td>2917</td>\n",
              "      <td>219222.423400</td>\n",
              "    </tr>\n",
              "    <tr>\n",
              "      <th>1457</th>\n",
              "      <td>2918</td>\n",
              "      <td>184924.279659</td>\n",
              "    </tr>\n",
              "    <tr>\n",
              "      <th>1458</th>\n",
              "      <td>2919</td>\n",
              "      <td>187741.866657</td>\n",
              "    </tr>\n",
              "  </tbody>\n",
              "</table>\n",
              "<p>1459 rows × 2 columns</p>\n",
              "</div>\n",
              "    <div class=\"colab-df-buttons\">\n",
              "\n",
              "  <div class=\"colab-df-container\">\n",
              "    <button class=\"colab-df-convert\" onclick=\"convertToInteractive('df-96a80059-f3a6-476f-b279-e2f890d2e3a8')\"\n",
              "            title=\"Convert this dataframe to an interactive table.\"\n",
              "            style=\"display:none;\">\n",
              "\n",
              "  <svg xmlns=\"http://www.w3.org/2000/svg\" height=\"24px\" viewBox=\"0 -960 960 960\">\n",
              "    <path d=\"M120-120v-720h720v720H120Zm60-500h600v-160H180v160Zm220 220h160v-160H400v160Zm0 220h160v-160H400v160ZM180-400h160v-160H180v160Zm440 0h160v-160H620v160ZM180-180h160v-160H180v160Zm440 0h160v-160H620v160Z\"/>\n",
              "  </svg>\n",
              "    </button>\n",
              "\n",
              "  <style>\n",
              "    .colab-df-container {\n",
              "      display:flex;\n",
              "      gap: 12px;\n",
              "    }\n",
              "\n",
              "    .colab-df-convert {\n",
              "      background-color: #E8F0FE;\n",
              "      border: none;\n",
              "      border-radius: 50%;\n",
              "      cursor: pointer;\n",
              "      display: none;\n",
              "      fill: #1967D2;\n",
              "      height: 32px;\n",
              "      padding: 0 0 0 0;\n",
              "      width: 32px;\n",
              "    }\n",
              "\n",
              "    .colab-df-convert:hover {\n",
              "      background-color: #E2EBFA;\n",
              "      box-shadow: 0px 1px 2px rgba(60, 64, 67, 0.3), 0px 1px 3px 1px rgba(60, 64, 67, 0.15);\n",
              "      fill: #174EA6;\n",
              "    }\n",
              "\n",
              "    .colab-df-buttons div {\n",
              "      margin-bottom: 4px;\n",
              "    }\n",
              "\n",
              "    [theme=dark] .colab-df-convert {\n",
              "      background-color: #3B4455;\n",
              "      fill: #D2E3FC;\n",
              "    }\n",
              "\n",
              "    [theme=dark] .colab-df-convert:hover {\n",
              "      background-color: #434B5C;\n",
              "      box-shadow: 0px 1px 3px 1px rgba(0, 0, 0, 0.15);\n",
              "      filter: drop-shadow(0px 1px 2px rgba(0, 0, 0, 0.3));\n",
              "      fill: #FFFFFF;\n",
              "    }\n",
              "  </style>\n",
              "\n",
              "    <script>\n",
              "      const buttonEl =\n",
              "        document.querySelector('#df-96a80059-f3a6-476f-b279-e2f890d2e3a8 button.colab-df-convert');\n",
              "      buttonEl.style.display =\n",
              "        google.colab.kernel.accessAllowed ? 'block' : 'none';\n",
              "\n",
              "      async function convertToInteractive(key) {\n",
              "        const element = document.querySelector('#df-96a80059-f3a6-476f-b279-e2f890d2e3a8');\n",
              "        const dataTable =\n",
              "          await google.colab.kernel.invokeFunction('convertToInteractive',\n",
              "                                                    [key], {});\n",
              "        if (!dataTable) return;\n",
              "\n",
              "        const docLinkHtml = 'Like what you see? Visit the ' +\n",
              "          '<a target=\"_blank\" href=https://colab.research.google.com/notebooks/data_table.ipynb>data table notebook</a>'\n",
              "          + ' to learn more about interactive tables.';\n",
              "        element.innerHTML = '';\n",
              "        dataTable['output_type'] = 'display_data';\n",
              "        await google.colab.output.renderOutput(dataTable, element);\n",
              "        const docLink = document.createElement('div');\n",
              "        docLink.innerHTML = docLinkHtml;\n",
              "        element.appendChild(docLink);\n",
              "      }\n",
              "    </script>\n",
              "  </div>\n",
              "\n",
              "\n",
              "<div id=\"df-e1809428-9e1a-45a3-8937-973128e751fc\">\n",
              "  <button class=\"colab-df-quickchart\" onclick=\"quickchart('df-e1809428-9e1a-45a3-8937-973128e751fc')\"\n",
              "            title=\"Suggest charts.\"\n",
              "            style=\"display:none;\">\n",
              "\n",
              "<svg xmlns=\"http://www.w3.org/2000/svg\" height=\"24px\"viewBox=\"0 0 24 24\"\n",
              "     width=\"24px\">\n",
              "    <g>\n",
              "        <path d=\"M19 3H5c-1.1 0-2 .9-2 2v14c0 1.1.9 2 2 2h14c1.1 0 2-.9 2-2V5c0-1.1-.9-2-2-2zM9 17H7v-7h2v7zm4 0h-2V7h2v10zm4 0h-2v-4h2v4z\"/>\n",
              "    </g>\n",
              "</svg>\n",
              "  </button>\n",
              "\n",
              "<style>\n",
              "  .colab-df-quickchart {\n",
              "      --bg-color: #E8F0FE;\n",
              "      --fill-color: #1967D2;\n",
              "      --hover-bg-color: #E2EBFA;\n",
              "      --hover-fill-color: #174EA6;\n",
              "      --disabled-fill-color: #AAA;\n",
              "      --disabled-bg-color: #DDD;\n",
              "  }\n",
              "\n",
              "  [theme=dark] .colab-df-quickchart {\n",
              "      --bg-color: #3B4455;\n",
              "      --fill-color: #D2E3FC;\n",
              "      --hover-bg-color: #434B5C;\n",
              "      --hover-fill-color: #FFFFFF;\n",
              "      --disabled-bg-color: #3B4455;\n",
              "      --disabled-fill-color: #666;\n",
              "  }\n",
              "\n",
              "  .colab-df-quickchart {\n",
              "    background-color: var(--bg-color);\n",
              "    border: none;\n",
              "    border-radius: 50%;\n",
              "    cursor: pointer;\n",
              "    display: none;\n",
              "    fill: var(--fill-color);\n",
              "    height: 32px;\n",
              "    padding: 0;\n",
              "    width: 32px;\n",
              "  }\n",
              "\n",
              "  .colab-df-quickchart:hover {\n",
              "    background-color: var(--hover-bg-color);\n",
              "    box-shadow: 0 1px 2px rgba(60, 64, 67, 0.3), 0 1px 3px 1px rgba(60, 64, 67, 0.15);\n",
              "    fill: var(--button-hover-fill-color);\n",
              "  }\n",
              "\n",
              "  .colab-df-quickchart-complete:disabled,\n",
              "  .colab-df-quickchart-complete:disabled:hover {\n",
              "    background-color: var(--disabled-bg-color);\n",
              "    fill: var(--disabled-fill-color);\n",
              "    box-shadow: none;\n",
              "  }\n",
              "\n",
              "  .colab-df-spinner {\n",
              "    border: 2px solid var(--fill-color);\n",
              "    border-color: transparent;\n",
              "    border-bottom-color: var(--fill-color);\n",
              "    animation:\n",
              "      spin 1s steps(1) infinite;\n",
              "  }\n",
              "\n",
              "  @keyframes spin {\n",
              "    0% {\n",
              "      border-color: transparent;\n",
              "      border-bottom-color: var(--fill-color);\n",
              "      border-left-color: var(--fill-color);\n",
              "    }\n",
              "    20% {\n",
              "      border-color: transparent;\n",
              "      border-left-color: var(--fill-color);\n",
              "      border-top-color: var(--fill-color);\n",
              "    }\n",
              "    30% {\n",
              "      border-color: transparent;\n",
              "      border-left-color: var(--fill-color);\n",
              "      border-top-color: var(--fill-color);\n",
              "      border-right-color: var(--fill-color);\n",
              "    }\n",
              "    40% {\n",
              "      border-color: transparent;\n",
              "      border-right-color: var(--fill-color);\n",
              "      border-top-color: var(--fill-color);\n",
              "    }\n",
              "    60% {\n",
              "      border-color: transparent;\n",
              "      border-right-color: var(--fill-color);\n",
              "    }\n",
              "    80% {\n",
              "      border-color: transparent;\n",
              "      border-right-color: var(--fill-color);\n",
              "      border-bottom-color: var(--fill-color);\n",
              "    }\n",
              "    90% {\n",
              "      border-color: transparent;\n",
              "      border-bottom-color: var(--fill-color);\n",
              "    }\n",
              "  }\n",
              "</style>\n",
              "\n",
              "  <script>\n",
              "    async function quickchart(key) {\n",
              "      const quickchartButtonEl =\n",
              "        document.querySelector('#' + key + ' button');\n",
              "      quickchartButtonEl.disabled = true;  // To prevent multiple clicks.\n",
              "      quickchartButtonEl.classList.add('colab-df-spinner');\n",
              "      try {\n",
              "        const charts = await google.colab.kernel.invokeFunction(\n",
              "            'suggestCharts', [key], {});\n",
              "      } catch (error) {\n",
              "        console.error('Error during call to suggestCharts:', error);\n",
              "      }\n",
              "      quickchartButtonEl.classList.remove('colab-df-spinner');\n",
              "      quickchartButtonEl.classList.add('colab-df-quickchart-complete');\n",
              "    }\n",
              "    (() => {\n",
              "      let quickchartButtonEl =\n",
              "        document.querySelector('#df-e1809428-9e1a-45a3-8937-973128e751fc button');\n",
              "      quickchartButtonEl.style.display =\n",
              "        google.colab.kernel.accessAllowed ? 'block' : 'none';\n",
              "    })();\n",
              "  </script>\n",
              "</div>\n",
              "    </div>\n",
              "  </div>\n"
            ]
          },
          "metadata": {},
          "execution_count": 6
        }
      ]
    },
    {
      "cell_type": "code",
      "source": [
        "#2.Pre Processing the data"
      ],
      "metadata": {
        "id": "xnyrrKEX2b64"
      },
      "execution_count": null,
      "outputs": []
    },
    {
      "cell_type": "code",
      "source": [
        "df.columns"
      ],
      "metadata": {
        "colab": {
          "base_uri": "https://localhost:8080/"
        },
        "id": "H9IhK8cpdkrx",
        "outputId": "855523cf-225f-4823-dd19-a51c04889c37"
      },
      "execution_count": null,
      "outputs": [
        {
          "output_type": "execute_result",
          "data": {
            "text/plain": [
              "Index(['Id', 'SalePrice'], dtype='object')"
            ]
          },
          "metadata": {},
          "execution_count": 7
        }
      ]
    },
    {
      "cell_type": "code",
      "source": [
        "df.count()"
      ],
      "metadata": {
        "colab": {
          "base_uri": "https://localhost:8080/"
        },
        "id": "_97oq1zxdxt9",
        "outputId": "3d3e5336-3097-430d-c77e-9686273aa4dd"
      },
      "execution_count": null,
      "outputs": [
        {
          "output_type": "execute_result",
          "data": {
            "text/plain": [
              "Id           1459\n",
              "SalePrice    1459\n",
              "dtype: int64"
            ]
          },
          "metadata": {},
          "execution_count": 8
        }
      ]
    },
    {
      "cell_type": "code",
      "source": [
        "df.describe()"
      ],
      "metadata": {
        "colab": {
          "base_uri": "https://localhost:8080/",
          "height": 300
        },
        "id": "8sh9y27Zdz2n",
        "outputId": "6378de23-b84f-4685-b598-ca8c1e3d41c8"
      },
      "execution_count": null,
      "outputs": [
        {
          "output_type": "execute_result",
          "data": {
            "text/plain": [
              "                Id      SalePrice\n",
              "count  1459.000000    1459.000000\n",
              "mean   2190.000000  179183.918243\n",
              "std     421.321334   16518.303051\n",
              "min    1461.000000  135751.318893\n",
              "25%    1825.500000  168703.011202\n",
              "50%    2190.000000  179208.665698\n",
              "75%    2554.500000  186789.409363\n",
              "max    2919.000000  281643.976117"
            ],
            "text/html": [
              "\n",
              "  <div id=\"df-db562846-c0ec-4c2a-8abc-e21b093fdb97\" class=\"colab-df-container\">\n",
              "    <div>\n",
              "<style scoped>\n",
              "    .dataframe tbody tr th:only-of-type {\n",
              "        vertical-align: middle;\n",
              "    }\n",
              "\n",
              "    .dataframe tbody tr th {\n",
              "        vertical-align: top;\n",
              "    }\n",
              "\n",
              "    .dataframe thead th {\n",
              "        text-align: right;\n",
              "    }\n",
              "</style>\n",
              "<table border=\"1\" class=\"dataframe\">\n",
              "  <thead>\n",
              "    <tr style=\"text-align: right;\">\n",
              "      <th></th>\n",
              "      <th>Id</th>\n",
              "      <th>SalePrice</th>\n",
              "    </tr>\n",
              "  </thead>\n",
              "  <tbody>\n",
              "    <tr>\n",
              "      <th>count</th>\n",
              "      <td>1459.000000</td>\n",
              "      <td>1459.000000</td>\n",
              "    </tr>\n",
              "    <tr>\n",
              "      <th>mean</th>\n",
              "      <td>2190.000000</td>\n",
              "      <td>179183.918243</td>\n",
              "    </tr>\n",
              "    <tr>\n",
              "      <th>std</th>\n",
              "      <td>421.321334</td>\n",
              "      <td>16518.303051</td>\n",
              "    </tr>\n",
              "    <tr>\n",
              "      <th>min</th>\n",
              "      <td>1461.000000</td>\n",
              "      <td>135751.318893</td>\n",
              "    </tr>\n",
              "    <tr>\n",
              "      <th>25%</th>\n",
              "      <td>1825.500000</td>\n",
              "      <td>168703.011202</td>\n",
              "    </tr>\n",
              "    <tr>\n",
              "      <th>50%</th>\n",
              "      <td>2190.000000</td>\n",
              "      <td>179208.665698</td>\n",
              "    </tr>\n",
              "    <tr>\n",
              "      <th>75%</th>\n",
              "      <td>2554.500000</td>\n",
              "      <td>186789.409363</td>\n",
              "    </tr>\n",
              "    <tr>\n",
              "      <th>max</th>\n",
              "      <td>2919.000000</td>\n",
              "      <td>281643.976117</td>\n",
              "    </tr>\n",
              "  </tbody>\n",
              "</table>\n",
              "</div>\n",
              "    <div class=\"colab-df-buttons\">\n",
              "\n",
              "  <div class=\"colab-df-container\">\n",
              "    <button class=\"colab-df-convert\" onclick=\"convertToInteractive('df-db562846-c0ec-4c2a-8abc-e21b093fdb97')\"\n",
              "            title=\"Convert this dataframe to an interactive table.\"\n",
              "            style=\"display:none;\">\n",
              "\n",
              "  <svg xmlns=\"http://www.w3.org/2000/svg\" height=\"24px\" viewBox=\"0 -960 960 960\">\n",
              "    <path d=\"M120-120v-720h720v720H120Zm60-500h600v-160H180v160Zm220 220h160v-160H400v160Zm0 220h160v-160H400v160ZM180-400h160v-160H180v160Zm440 0h160v-160H620v160ZM180-180h160v-160H180v160Zm440 0h160v-160H620v160Z\"/>\n",
              "  </svg>\n",
              "    </button>\n",
              "\n",
              "  <style>\n",
              "    .colab-df-container {\n",
              "      display:flex;\n",
              "      gap: 12px;\n",
              "    }\n",
              "\n",
              "    .colab-df-convert {\n",
              "      background-color: #E8F0FE;\n",
              "      border: none;\n",
              "      border-radius: 50%;\n",
              "      cursor: pointer;\n",
              "      display: none;\n",
              "      fill: #1967D2;\n",
              "      height: 32px;\n",
              "      padding: 0 0 0 0;\n",
              "      width: 32px;\n",
              "    }\n",
              "\n",
              "    .colab-df-convert:hover {\n",
              "      background-color: #E2EBFA;\n",
              "      box-shadow: 0px 1px 2px rgba(60, 64, 67, 0.3), 0px 1px 3px 1px rgba(60, 64, 67, 0.15);\n",
              "      fill: #174EA6;\n",
              "    }\n",
              "\n",
              "    .colab-df-buttons div {\n",
              "      margin-bottom: 4px;\n",
              "    }\n",
              "\n",
              "    [theme=dark] .colab-df-convert {\n",
              "      background-color: #3B4455;\n",
              "      fill: #D2E3FC;\n",
              "    }\n",
              "\n",
              "    [theme=dark] .colab-df-convert:hover {\n",
              "      background-color: #434B5C;\n",
              "      box-shadow: 0px 1px 3px 1px rgba(0, 0, 0, 0.15);\n",
              "      filter: drop-shadow(0px 1px 2px rgba(0, 0, 0, 0.3));\n",
              "      fill: #FFFFFF;\n",
              "    }\n",
              "  </style>\n",
              "\n",
              "    <script>\n",
              "      const buttonEl =\n",
              "        document.querySelector('#df-db562846-c0ec-4c2a-8abc-e21b093fdb97 button.colab-df-convert');\n",
              "      buttonEl.style.display =\n",
              "        google.colab.kernel.accessAllowed ? 'block' : 'none';\n",
              "\n",
              "      async function convertToInteractive(key) {\n",
              "        const element = document.querySelector('#df-db562846-c0ec-4c2a-8abc-e21b093fdb97');\n",
              "        const dataTable =\n",
              "          await google.colab.kernel.invokeFunction('convertToInteractive',\n",
              "                                                    [key], {});\n",
              "        if (!dataTable) return;\n",
              "\n",
              "        const docLinkHtml = 'Like what you see? Visit the ' +\n",
              "          '<a target=\"_blank\" href=https://colab.research.google.com/notebooks/data_table.ipynb>data table notebook</a>'\n",
              "          + ' to learn more about interactive tables.';\n",
              "        element.innerHTML = '';\n",
              "        dataTable['output_type'] = 'display_data';\n",
              "        await google.colab.output.renderOutput(dataTable, element);\n",
              "        const docLink = document.createElement('div');\n",
              "        docLink.innerHTML = docLinkHtml;\n",
              "        element.appendChild(docLink);\n",
              "      }\n",
              "    </script>\n",
              "  </div>\n",
              "\n",
              "\n",
              "<div id=\"df-e594f413-ddbc-4db5-9b3a-8ff9b8d706af\">\n",
              "  <button class=\"colab-df-quickchart\" onclick=\"quickchart('df-e594f413-ddbc-4db5-9b3a-8ff9b8d706af')\"\n",
              "            title=\"Suggest charts.\"\n",
              "            style=\"display:none;\">\n",
              "\n",
              "<svg xmlns=\"http://www.w3.org/2000/svg\" height=\"24px\"viewBox=\"0 0 24 24\"\n",
              "     width=\"24px\">\n",
              "    <g>\n",
              "        <path d=\"M19 3H5c-1.1 0-2 .9-2 2v14c0 1.1.9 2 2 2h14c1.1 0 2-.9 2-2V5c0-1.1-.9-2-2-2zM9 17H7v-7h2v7zm4 0h-2V7h2v10zm4 0h-2v-4h2v4z\"/>\n",
              "    </g>\n",
              "</svg>\n",
              "  </button>\n",
              "\n",
              "<style>\n",
              "  .colab-df-quickchart {\n",
              "      --bg-color: #E8F0FE;\n",
              "      --fill-color: #1967D2;\n",
              "      --hover-bg-color: #E2EBFA;\n",
              "      --hover-fill-color: #174EA6;\n",
              "      --disabled-fill-color: #AAA;\n",
              "      --disabled-bg-color: #DDD;\n",
              "  }\n",
              "\n",
              "  [theme=dark] .colab-df-quickchart {\n",
              "      --bg-color: #3B4455;\n",
              "      --fill-color: #D2E3FC;\n",
              "      --hover-bg-color: #434B5C;\n",
              "      --hover-fill-color: #FFFFFF;\n",
              "      --disabled-bg-color: #3B4455;\n",
              "      --disabled-fill-color: #666;\n",
              "  }\n",
              "\n",
              "  .colab-df-quickchart {\n",
              "    background-color: var(--bg-color);\n",
              "    border: none;\n",
              "    border-radius: 50%;\n",
              "    cursor: pointer;\n",
              "    display: none;\n",
              "    fill: var(--fill-color);\n",
              "    height: 32px;\n",
              "    padding: 0;\n",
              "    width: 32px;\n",
              "  }\n",
              "\n",
              "  .colab-df-quickchart:hover {\n",
              "    background-color: var(--hover-bg-color);\n",
              "    box-shadow: 0 1px 2px rgba(60, 64, 67, 0.3), 0 1px 3px 1px rgba(60, 64, 67, 0.15);\n",
              "    fill: var(--button-hover-fill-color);\n",
              "  }\n",
              "\n",
              "  .colab-df-quickchart-complete:disabled,\n",
              "  .colab-df-quickchart-complete:disabled:hover {\n",
              "    background-color: var(--disabled-bg-color);\n",
              "    fill: var(--disabled-fill-color);\n",
              "    box-shadow: none;\n",
              "  }\n",
              "\n",
              "  .colab-df-spinner {\n",
              "    border: 2px solid var(--fill-color);\n",
              "    border-color: transparent;\n",
              "    border-bottom-color: var(--fill-color);\n",
              "    animation:\n",
              "      spin 1s steps(1) infinite;\n",
              "  }\n",
              "\n",
              "  @keyframes spin {\n",
              "    0% {\n",
              "      border-color: transparent;\n",
              "      border-bottom-color: var(--fill-color);\n",
              "      border-left-color: var(--fill-color);\n",
              "    }\n",
              "    20% {\n",
              "      border-color: transparent;\n",
              "      border-left-color: var(--fill-color);\n",
              "      border-top-color: var(--fill-color);\n",
              "    }\n",
              "    30% {\n",
              "      border-color: transparent;\n",
              "      border-left-color: var(--fill-color);\n",
              "      border-top-color: var(--fill-color);\n",
              "      border-right-color: var(--fill-color);\n",
              "    }\n",
              "    40% {\n",
              "      border-color: transparent;\n",
              "      border-right-color: var(--fill-color);\n",
              "      border-top-color: var(--fill-color);\n",
              "    }\n",
              "    60% {\n",
              "      border-color: transparent;\n",
              "      border-right-color: var(--fill-color);\n",
              "    }\n",
              "    80% {\n",
              "      border-color: transparent;\n",
              "      border-right-color: var(--fill-color);\n",
              "      border-bottom-color: var(--fill-color);\n",
              "    }\n",
              "    90% {\n",
              "      border-color: transparent;\n",
              "      border-bottom-color: var(--fill-color);\n",
              "    }\n",
              "  }\n",
              "</style>\n",
              "\n",
              "  <script>\n",
              "    async function quickchart(key) {\n",
              "      const quickchartButtonEl =\n",
              "        document.querySelector('#' + key + ' button');\n",
              "      quickchartButtonEl.disabled = true;  // To prevent multiple clicks.\n",
              "      quickchartButtonEl.classList.add('colab-df-spinner');\n",
              "      try {\n",
              "        const charts = await google.colab.kernel.invokeFunction(\n",
              "            'suggestCharts', [key], {});\n",
              "      } catch (error) {\n",
              "        console.error('Error during call to suggestCharts:', error);\n",
              "      }\n",
              "      quickchartButtonEl.classList.remove('colab-df-spinner');\n",
              "      quickchartButtonEl.classList.add('colab-df-quickchart-complete');\n",
              "    }\n",
              "    (() => {\n",
              "      let quickchartButtonEl =\n",
              "        document.querySelector('#df-e594f413-ddbc-4db5-9b3a-8ff9b8d706af button');\n",
              "      quickchartButtonEl.style.display =\n",
              "        google.colab.kernel.accessAllowed ? 'block' : 'none';\n",
              "    })();\n",
              "  </script>\n",
              "</div>\n",
              "    </div>\n",
              "  </div>\n"
            ]
          },
          "metadata": {},
          "execution_count": 9
        }
      ]
    },
    {
      "cell_type": "code",
      "source": [
        "df.info()"
      ],
      "metadata": {
        "colab": {
          "base_uri": "https://localhost:8080/"
        },
        "id": "rzJX9Blod5Bt",
        "outputId": "f2ca3f63-a405-4297-e197-b6d7b8da7853"
      },
      "execution_count": null,
      "outputs": [
        {
          "output_type": "stream",
          "name": "stdout",
          "text": [
            "<class 'pandas.core.frame.DataFrame'>\n",
            "RangeIndex: 1459 entries, 0 to 1458\n",
            "Data columns (total 2 columns):\n",
            " #   Column     Non-Null Count  Dtype  \n",
            "---  ------     --------------  -----  \n",
            " 0   Id         1459 non-null   int64  \n",
            " 1   SalePrice  1459 non-null   float64\n",
            "dtypes: float64(1), int64(1)\n",
            "memory usage: 22.9 KB\n"
          ]
        }
      ]
    },
    {
      "cell_type": "code",
      "source": [
        "#3.Dividing the data into input and output"
      ],
      "metadata": {
        "id": "FuE7r3MF2nO1"
      },
      "execution_count": null,
      "outputs": []
    },
    {
      "cell_type": "code",
      "source": [
        "x=df.iloc[:,0].values\n",
        "x"
      ],
      "metadata": {
        "colab": {
          "base_uri": "https://localhost:8080/"
        },
        "id": "sJyY2eo5eqvj",
        "outputId": "b3822e4b-0551-4477-c1c1-8995498b84f2"
      },
      "execution_count": null,
      "outputs": [
        {
          "output_type": "execute_result",
          "data": {
            "text/plain": [
              "array([1461, 1462, 1463, ..., 2917, 2918, 2919])"
            ]
          },
          "metadata": {},
          "execution_count": 10
        }
      ]
    },
    {
      "cell_type": "code",
      "source": [
        "y=df.iloc[:,1].values\n",
        "y"
      ],
      "metadata": {
        "colab": {
          "base_uri": "https://localhost:8080/"
        },
        "id": "YiIZ00xAe1Db",
        "outputId": "868f2a36-3e86-4d41-a416-f2a28483b5c7"
      },
      "execution_count": null,
      "outputs": [
        {
          "output_type": "execute_result",
          "data": {
            "text/plain": [
              "array([169277.0524984 , 187758.39398877, 183583.68356955, ...,\n",
              "       219222.42340006, 184924.279659  , 187741.86665748])"
            ]
          },
          "metadata": {},
          "execution_count": 14
        }
      ]
    },
    {
      "cell_type": "code",
      "source": [
        "#4.Train and test the data"
      ],
      "metadata": {
        "id": "YotSZc8V2xXk"
      },
      "execution_count": null,
      "outputs": []
    },
    {
      "cell_type": "code",
      "source": [
        "from sklearn.model_selection import train_test_split\n",
        "x_train,x_test,y_train,y_test=train_test_split(x,y,test_size=0.3,random_state=0)\n"
      ],
      "metadata": {
        "id": "sr0GQBuCfA_v"
      },
      "execution_count": null,
      "outputs": []
    },
    {
      "cell_type": "code",
      "source": [
        "len(x_train)"
      ],
      "metadata": {
        "colab": {
          "base_uri": "https://localhost:8080/"
        },
        "id": "tc099LoVfrSt",
        "outputId": "10a0a04d-441d-4da0-ff65-c1016bdc449b"
      },
      "execution_count": null,
      "outputs": [
        {
          "output_type": "execute_result",
          "data": {
            "text/plain": [
              "1167"
            ]
          },
          "metadata": {},
          "execution_count": 44
        }
      ]
    },
    {
      "cell_type": "code",
      "source": [
        "len(y_train)"
      ],
      "metadata": {
        "colab": {
          "base_uri": "https://localhost:8080/"
        },
        "id": "IRRcOtGkf3y4",
        "outputId": "6e3a02f4-92bf-415a-ca25-a26c9bdefba4"
      },
      "execution_count": null,
      "outputs": [
        {
          "output_type": "execute_result",
          "data": {
            "text/plain": [
              "1167"
            ]
          },
          "metadata": {},
          "execution_count": 29
        }
      ]
    },
    {
      "cell_type": "code",
      "source": [
        "#5.Applying the regression and fitting the model"
      ],
      "metadata": {
        "id": "pXQr4T3o22NW"
      },
      "execution_count": null,
      "outputs": []
    },
    {
      "cell_type": "code",
      "source": [
        "from sklearn import model_selection\n",
        "from sklearn.linear_model import LinearRegression\n",
        "model=LinearRegression()\n",
        "x=x.reshape(-1,1)\n",
        "\n",
        "\n",
        "model.fit(x,y)\n"
      ],
      "metadata": {
        "colab": {
          "base_uri": "https://localhost:8080/",
          "height": 74
        },
        "id": "ES1-_7sWgn3S",
        "outputId": "daadaeac-f958-4284-eebc-2815ccdfce68"
      },
      "execution_count": null,
      "outputs": [
        {
          "output_type": "execute_result",
          "data": {
            "text/plain": [
              "LinearRegression()"
            ],
            "text/html": [
              "<style>#sk-container-id-1 {color: black;background-color: white;}#sk-container-id-1 pre{padding: 0;}#sk-container-id-1 div.sk-toggleable {background-color: white;}#sk-container-id-1 label.sk-toggleable__label {cursor: pointer;display: block;width: 100%;margin-bottom: 0;padding: 0.3em;box-sizing: border-box;text-align: center;}#sk-container-id-1 label.sk-toggleable__label-arrow:before {content: \"▸\";float: left;margin-right: 0.25em;color: #696969;}#sk-container-id-1 label.sk-toggleable__label-arrow:hover:before {color: black;}#sk-container-id-1 div.sk-estimator:hover label.sk-toggleable__label-arrow:before {color: black;}#sk-container-id-1 div.sk-toggleable__content {max-height: 0;max-width: 0;overflow: hidden;text-align: left;background-color: #f0f8ff;}#sk-container-id-1 div.sk-toggleable__content pre {margin: 0.2em;color: black;border-radius: 0.25em;background-color: #f0f8ff;}#sk-container-id-1 input.sk-toggleable__control:checked~div.sk-toggleable__content {max-height: 200px;max-width: 100%;overflow: auto;}#sk-container-id-1 input.sk-toggleable__control:checked~label.sk-toggleable__label-arrow:before {content: \"▾\";}#sk-container-id-1 div.sk-estimator input.sk-toggleable__control:checked~label.sk-toggleable__label {background-color: #d4ebff;}#sk-container-id-1 div.sk-label input.sk-toggleable__control:checked~label.sk-toggleable__label {background-color: #d4ebff;}#sk-container-id-1 input.sk-hidden--visually {border: 0;clip: rect(1px 1px 1px 1px);clip: rect(1px, 1px, 1px, 1px);height: 1px;margin: -1px;overflow: hidden;padding: 0;position: absolute;width: 1px;}#sk-container-id-1 div.sk-estimator {font-family: monospace;background-color: #f0f8ff;border: 1px dotted black;border-radius: 0.25em;box-sizing: border-box;margin-bottom: 0.5em;}#sk-container-id-1 div.sk-estimator:hover {background-color: #d4ebff;}#sk-container-id-1 div.sk-parallel-item::after {content: \"\";width: 100%;border-bottom: 1px solid gray;flex-grow: 1;}#sk-container-id-1 div.sk-label:hover label.sk-toggleable__label {background-color: #d4ebff;}#sk-container-id-1 div.sk-serial::before {content: \"\";position: absolute;border-left: 1px solid gray;box-sizing: border-box;top: 0;bottom: 0;left: 50%;z-index: 0;}#sk-container-id-1 div.sk-serial {display: flex;flex-direction: column;align-items: center;background-color: white;padding-right: 0.2em;padding-left: 0.2em;position: relative;}#sk-container-id-1 div.sk-item {position: relative;z-index: 1;}#sk-container-id-1 div.sk-parallel {display: flex;align-items: stretch;justify-content: center;background-color: white;position: relative;}#sk-container-id-1 div.sk-item::before, #sk-container-id-1 div.sk-parallel-item::before {content: \"\";position: absolute;border-left: 1px solid gray;box-sizing: border-box;top: 0;bottom: 0;left: 50%;z-index: -1;}#sk-container-id-1 div.sk-parallel-item {display: flex;flex-direction: column;z-index: 1;position: relative;background-color: white;}#sk-container-id-1 div.sk-parallel-item:first-child::after {align-self: flex-end;width: 50%;}#sk-container-id-1 div.sk-parallel-item:last-child::after {align-self: flex-start;width: 50%;}#sk-container-id-1 div.sk-parallel-item:only-child::after {width: 0;}#sk-container-id-1 div.sk-dashed-wrapped {border: 1px dashed gray;margin: 0 0.4em 0.5em 0.4em;box-sizing: border-box;padding-bottom: 0.4em;background-color: white;}#sk-container-id-1 div.sk-label label {font-family: monospace;font-weight: bold;display: inline-block;line-height: 1.2em;}#sk-container-id-1 div.sk-label-container {text-align: center;}#sk-container-id-1 div.sk-container {/* jupyter's `normalize.less` sets `[hidden] { display: none; }` but bootstrap.min.css set `[hidden] { display: none !important; }` so we also need the `!important` here to be able to override the default hidden behavior on the sphinx rendered scikit-learn.org. See: https://github.com/scikit-learn/scikit-learn/issues/21755 */display: inline-block !important;position: relative;}#sk-container-id-1 div.sk-text-repr-fallback {display: none;}</style><div id=\"sk-container-id-1\" class=\"sk-top-container\"><div class=\"sk-text-repr-fallback\"><pre>LinearRegression()</pre><b>In a Jupyter environment, please rerun this cell to show the HTML representation or trust the notebook. <br />On GitHub, the HTML representation is unable to render, please try loading this page with nbviewer.org.</b></div><div class=\"sk-container\" hidden><div class=\"sk-item\"><div class=\"sk-estimator sk-toggleable\"><input class=\"sk-toggleable__control sk-hidden--visually\" id=\"sk-estimator-id-1\" type=\"checkbox\" checked><label for=\"sk-estimator-id-1\" class=\"sk-toggleable__label sk-toggleable__label-arrow\">LinearRegression</label><div class=\"sk-toggleable__content\"><pre>LinearRegression()</pre></div></div></div></div></div>"
            ]
          },
          "metadata": {},
          "execution_count": 28
        }
      ]
    },
    {
      "cell_type": "code",
      "source": [
        "#6.Predicting the output"
      ],
      "metadata": {
        "id": "SNs5O18I3WRm"
      },
      "execution_count": null,
      "outputs": []
    },
    {
      "cell_type": "code",
      "source": [
        "x_test.reshape(-1,1)\n",
        "y_pred=model.predict(x_test)\n",
        "y_pred"
      ],
      "metadata": {
        "id": "jIu_djS1kyN9",
        "colab": {
          "base_uri": "https://localhost:8080/"
        },
        "outputId": "1a64eecd-3206-480d-e191-5100d65b20ab"
      },
      "execution_count": null,
      "outputs": [
        {
          "output_type": "execute_result",
          "data": {
            "text/plain": [
              "array([182596.93873462, 178021.51271279, 182557.36748254, 178392.49320105,\n",
              "       177981.94146071, 175845.09384836, 176310.05606031, 181469.15805032,\n",
              "       180103.94985354, 177690.10347662, 178773.36650233, 182033.04839247,\n",
              "       182384.24325468, 178056.13755836, 181790.67447348, 177858.28129796,\n",
              "       180099.00344703, 176953.08890662, 182473.27857187, 181874.76338415,\n",
              "       180643.10816314, 177521.92565528, 175731.32649863, 182092.40527059,\n",
              "       178704.11681118, 178199.58334716, 179995.12891032, 177190.5164191 ,\n",
              "       178644.75993306, 176720.60780064, 176018.21807621, 177037.17781729,\n",
              "       182290.26153099, 181627.44305864, 181122.90959461, 175746.16571816,\n",
              "       177947.31661514, 176329.84168635, 176681.03654856, 177507.08643575,\n",
              "       175835.20103534, 179688.45170669, 178293.56507085, 178788.20572186,\n",
              "       182161.65496173, 176443.60903608, 181731.31759535, 180618.37613059,\n",
              "       177121.26672796, 176364.46653192, 182127.03011616, 181805.51369301,\n",
              "       182191.33340079, 182112.19089663, 179238.32871427, 179648.88045461,\n",
              "       180178.14595119, 182275.42231146, 181845.08494509, 177779.1387938 ,\n",
              "       179223.48949474, 182611.77795415, 177378.47986648, 175597.77352285,\n",
              "       181177.32006623, 180840.96442354, 177101.48110192, 178145.17287555,\n",
              "       177269.65892326, 182572.20670207, 175622.5055554 , 180509.55518736,\n",
              "       181825.29931905, 180925.05333421, 179846.73671501, 182171.54777475,\n",
              "       181093.23115555, 177887.95973702, 178595.29586796, 180900.32130166,\n",
              "       182646.40279972, 176107.25339339, 176958.03531313, 177170.73079306,\n",
              "       179381.77450307, 176577.16201185, 180341.37736602, 180425.46627669,\n",
              "       176275.43121474, 181147.64162716, 180638.16175663, 180450.19830924,\n",
              "       179460.91700723, 178417.2252336 , 175647.23758795, 178115.49443649,\n",
              "       178110.54802998, 180163.30673166, 180578.80487851, 182003.36995341,\n",
              "       177052.01703682, 182413.92169375, 177225.14126467, 181632.38946515,\n",
              "       175998.43245017, 175602.71992936, 180727.19707381, 178461.74289219,\n",
              "       177996.78068024, 177922.58458259, 178150.11928206, 180301.80611394,\n",
              "       177111.37391494, 181830.24572556, 176181.44949104, 179451.02419421,\n",
              "       181924.22744925, 175973.70041762, 181058.60630998, 178135.28006253,\n",
              "       181691.74634327, 176621.67967044, 178441.95726615, 176052.84292178,\n",
              "       178075.9231844 , 179376.82809656, 181132.80240763, 180712.35785428,\n",
              "       176864.05358943, 176700.8221746 , 182448.54653932, 176280.37762125,\n",
              "       181508.7293024 , 180366.10939857, 179634.04123508, 181202.05209878,\n",
              "       180791.50035844, 179584.57716998, 180326.53814649, 177848.38848494,\n",
              "       176136.93183245, 181914.33463623, 179925.87921917, 178278.72585132,\n",
              "       180395.78783763, 178387.54679454, 175800.57618977, 182240.79746589,\n",
              "       175850.04025487, 177462.56877715, 179416.39934864, 180529.3408134 ,\n",
              "       178244.10100575, 182428.76091328, 182517.79623046, 180870.6428626 ,\n",
              "       177076.74906937, 176374.35934494, 176478.23388165, 180939.89255374,\n",
              "       180455.14471575, 179347.1496575 , 177056.96344333, 176112.1997999 ,\n",
              "       177363.64064695, 181023.98146441, 179678.55889367, 179653.82686112,\n",
              "       179164.13261662, 176730.50061366, 178224.31537971, 180494.71596783,\n",
              "       180336.43095951, 178333.13632293, 177071.80266286, 178634.86712004,\n",
              "       178753.58087629, 178407.33242058, 180865.69645609, 177962.15583467,\n",
              "       182389.18966119, 175711.54087259, 177754.40676125, 177784.08520031,\n",
              "       176685.98295507, 179005.8476083 , 181330.65866804, 178338.08272944,\n",
              "       179094.88292548, 176641.46529648, 179203.7038687 , 180657.94738267,\n",
              "       176488.12669467, 177145.99876051, 176913.51765454, 177724.72832219,\n",
              "       182255.63668542, 181602.71102609, 175671.96962051, 179841.7903085 ,\n",
              "       180588.69769153, 177210.30204514, 176834.37515037, 182250.69027891,\n",
              "       179540.05951139, 182042.94120549, 180435.35908971, 178372.70757501,\n",
              "       175667.023214  , 177907.74536306, 180964.62458629, 178194.63694065,\n",
              "       175840.14744185, 182745.33092992, 181498.83648938, 179495.5418528 ,\n",
              "       175810.46900279, 177709.88910266, 181577.97899354, 180054.48578844,\n",
              "       177437.8367446 , 180009.96812985, 181300.98022898, 182705.75967784,\n",
              "       177769.24598078, 177685.15707011, 180549.12643944, 176829.42874386,\n",
              "       180321.59173998, 176270.48480823, 182775.00936898, 180801.39317146,\n",
              "       179797.27264991, 179985.2360973 , 177878.066924  , 175770.89775071,\n",
              "       178620.02790051, 176587.05482487, 181983.58432737, 181127.85600112,\n",
              "       175587.88070983, 175582.93430332, 180499.66237434, 180247.39564233,\n",
              "       179817.05827595, 178852.50900649, 176527.69794675, 182037.99479898,\n",
              "       176903.62484152, 178585.40305494, 175864.8794744 , 182779.95577549,\n",
              "       178649.70633957, 176770.07186574, 182755.22374294, 180148.46751213,\n",
              "       180024.80734938, 180593.64409804, 175854.98666138, 178783.25931535,\n",
              "       181261.4089769 , 177967.10224118, 180084.1642275 , 178748.63446978,\n",
              "       181251.51616388, 175721.43368561, 180049.53938193, 181340.55148106,\n",
              "       182408.97528724, 177136.10594749, 177843.44207843, 176191.34230406,\n",
              "       176557.37638581, 179455.97060072, 181563.13977401, 182740.38452341,\n",
              "       179292.73918588, 178318.2971034 , 182310.04715703, 181993.47714039,\n",
              "       179268.00715333, 180999.24943186, 177368.58705346, 181622.49665213,\n",
              "       177680.2106636 , 177324.06939487, 177615.90737897, 179762.64780434,\n",
              "       180890.42848864, 175879.71869393, 178051.19115185, 180465.03752877,\n",
              "       176033.05729574, 179723.07655226, 177358.69424044, 178867.34822602,\n",
              "       175775.84415722, 181948.9594818 , 175948.96838507, 177937.42380212,\n",
              "       181775.83525394, 178971.22276273, 181637.33587166, 176799.7503048 ,\n",
              "       182181.44058777, 177813.76363937, 180519.44800038, 176498.01950769,\n",
              "       176349.62731239, 177912.69176957, 175617.55914889, 182512.84982395,\n",
              "       182166.60136824, 181607.6574326 , 178189.69053414, 177610.96097246,\n",
              "       177155.89157353, 179624.14842206, 182789.84858851, 181063.55271649,\n",
              "       181721.42478233, 180672.7866022 , 178105.60162346, 180885.48208213,\n",
              "       180934.94614723, 182700.81327133, 177655.47863105, 179861.57593454,\n",
              "       180880.53567562, 178714.0096242 , 182502.95701093, 178362.81476199,\n",
              "       178689.27759165, 179732.96936528, 179015.74042132, 180376.00221159,\n",
              "       177665.37144407, 181701.63915629, 178422.17164011, 181419.69398522,\n",
              "       178258.94022528, 179930.82562568, 179332.31043797, 182443.60013281,\n",
              "       182423.81450677, 181919.28104274, 178006.67349326, 179574.68435696,\n",
              "       181854.97775811, 182616.72436066, 178451.85007917, 176859.10718292,\n",
              "       180598.59050455, 177744.51394823, 182527.68904348, 180133.6282926 ,\n",
              "       176819.53593084, 176809.64311782, 178446.90367266, 179505.43466582,\n",
              "       181449.37242428, 181345.49788757, 181488.94367636, 181963.79870133,\n",
              "       179886.30796709, 181573.03258703, 179297.68559239, 181657.1214977 ,\n",
              "       177714.83550917, 177734.62113521, 180984.41021233, 179658.77326763,\n",
              "       180667.84019569, 182295.2079375 , 182008.31635992, 182522.74263697,\n",
              "       176537.59075977, 176765.12545923, 181884.65619717, 178976.16916924,\n",
              "       182483.17138489, 180692.57222824, 175820.36181581, 179119.61495803,\n",
              "       177596.12175293, 178313.35069689, 179401.56012911, 178437.01085964,\n",
              "       179169.07902313, 175958.86119809, 178496.36773776, 178481.52851823,\n",
              "       175795.62978326, 181483.99726985, 180410.62705716, 179124.56136454,\n",
              "       177061.90984984, 178249.04741226, 182433.70731979, 176943.1960936 ,\n",
              "       177873.12051749, 176908.57124803, 178382.60038803, 180489.76956132,\n",
              "       182156.70855522, 177957.20942816, 176977.82093917, 180430.4126832 ,\n",
              "       179530.16669837, 177551.60409434, 178179.79772112, 177586.22893991,\n",
              "       178763.47368931, 177249.87329722, 177373.53345997, 178986.06198226,\n",
              "       179643.9340481 , 177986.88786722, 177160.83798004, 181968.74510784,\n",
              "       176542.53716628, 179248.22152729, 180014.91453636, 175924.23635252,\n",
              "       181137.74881414, 179055.3116734 , 175627.45196191, 180648.05456965,\n",
              "       179277.89996635, 181741.21040837, 176918.46406105, 177764.29957427,\n",
              "       178798.09853488, 181904.44182321, 180005.02172334, 175894.55791346,\n",
              "       178936.59791716, 180311.69892696])"
            ]
          },
          "metadata": {},
          "execution_count": 88
        }
      ]
    },
    {
      "cell_type": "code",
      "source": [
        "y_test\n"
      ],
      "metadata": {
        "colab": {
          "base_uri": "https://localhost:8080/"
        },
        "id": "QlICXR6trKVl",
        "outputId": "732e1de3-607e-4c94-f829-e862aace1371"
      },
      "execution_count": null,
      "outputs": [
        {
          "output_type": "execute_result",
          "data": {
            "text/plain": [
              "array([166374.87986635, 184795.78373511, 184199.78820991, 156060.85381039,\n",
              "       201691.20827485, 186920.51259764, 191719.16165918, 179749.87624437,\n",
              "       195560.8830172 , 180085.76688503, 173310.56154032, 189388.29171548,\n",
              "       178378.90606943, 151143.5490167 , 211423.98651115, 182520.23032248,\n",
              "       177109.58995622, 173388.8543426 , 191885.61818127, 174445.75955766,\n",
              "       198599.42002891, 166271.2863726 , 193850.61397905, 202524.12465369,\n",
              "       151713.38474815, 189196.84533715, 175588.6182711 , 185199.05060965,\n",
              "       224118.28010594, 209242.82289186, 179024.49126959, 195664.68610424,\n",
              "       181373.6165193 , 165407.88910469, 151611.37057651, 165625.12774123,\n",
              "       169618.34990069, 210817.77586341, 183849.40876207, 175011.48195346,\n",
              "       176521.2169757 , 181878.64795676, 156969.69508327, 174026.24729489,\n",
              "       193717.15117887, 159695.99976355, 185998.25516622, 176363.77390779,\n",
              "       179854.43188557, 158270.7531164 , 167926.83908361, 213252.92693089,\n",
              "       200210.35360849, 174071.05480852, 189893.00305846, 162182.59620952,\n",
              "       142398.02275201, 189030.68030321, 187948.65165563, 174518.25688208,\n",
              "       165845.93861654, 164454.96796363, 170934.46274657, 200468.16107055,\n",
              "       159714.53701262, 180370.80862311, 188511.44383524, 160775.6297771 ,\n",
              "       164788.77823114, 182902.42034239, 172912.51857643, 169652.23528428,\n",
              "       175127.59621604, 187904.46128626, 176261.29680614, 196544.1440758 ,\n",
              "       190311.05022834, 172330.94323665, 173214.91254974, 174418.20702078,\n",
              "       176911.31916443, 187665.64101603, 183320.89810793, 180650.34241841,\n",
              "       179503.04654683, 207243.61602398, 185290.90449507, 181627.06100661,\n",
              "       180422.04996995, 165086.77506174, 189579.65066771, 189369.75633041,\n",
              "       180330.6248162 , 197318.54715833, 175182.95089852, 191619.29464884,\n",
              "       179069.11223463, 211491.97246365, 157829.54685473, 166200.93807349,\n",
              "       196895.5999003 , 164115.89380044, 163602.51217283, 179460.96518734,\n",
              "       189228.70148628, 176450.5485821 , 188444.59731952, 178290.66630222,\n",
              "       189034.75365381, 199437.23279828, 165448.00428984, 174179.82477186,\n",
              "       168027.53099789, 187709.55500397, 181246.72852385, 175942.47459363,\n",
              "       162775.97977939, 171022.24144776, 245283.19833793, 182105.61628385,\n",
              "       175610.84012415, 170935.85921771, 183810.11848086, 185807.9288776 ,\n",
              "       182705.54602174, 198678.46908298, 162447.63933364, 199929.88443845,\n",
              "       198515.54693408, 159638.85616567, 160206.36561286, 196149.78385188,\n",
              "       193956.81756412, 155862.51066883, 182675.20427059, 190720.79464914,\n",
              "       220514.99399954, 171992.76073514, 197999.6749756 , 178980.87433143,\n",
              "       200328.82279204, 152186.60934156, 175031.08998718, 176401.92105459,\n",
              "       184602.73498997, 179555.21957079, 152125.02858554, 169788.73877146,\n",
              "       193789.64850329, 186711.71584808, 148409.80647634, 169611.61901769,\n",
              "       190170.38226683, 170175.22684199, 176376.58616478, 137402.56985559,\n",
              "       179857.97551801, 176477.02660633, 178344.62451356, 168991.29635758,\n",
              "       187798.07671423, 181733.33694145, 207566.12470446, 178750.61384462,\n",
              "       173310.56154032, 189432.68984452, 178071.13766884, 188514.05022894,\n",
              "       191403.1991771 , 156727.94832486, 178762.7421692 , 181873.45824446,\n",
              "       176429.4012417 , 167565.36208041, 170588.77192959, 183072.74059141,\n",
              "       183982.15899313, 192439.53604461, 172469.07159261, 165314.17768212,\n",
              "       172934.35168285, 178891.55448994, 191435.00788517, 185733.53400059,\n",
              "       160927.61044889, 166849.63817442, 174388.8674325 , 143237.80355974,\n",
              "       208156.39893519, 191930.56110481, 183735.97507658, 173931.53184543,\n",
              "       173732.68948644, 184946.64248358, 161665.18497476, 206977.56703936,\n",
              "       203074.34678979, 180929.62287697, 163276.32445   , 181991.07947938,\n",
              "       196314.53120359, 178521.74796495, 172386.29791913, 181613.60669666,\n",
              "       174519.90482595, 183972.07105667, 176866.55722786, 160620.72817876,\n",
              "       150106.5051417 , 190054.63923742, 177327.40385758, 154406.41562746,\n",
              "       158307.20674227, 161642.71164898, 177304.42575275, 188007.94241481,\n",
              "       205832.5325279 , 168322.34244194, 166558.11332845, 166809.8868272 ,\n",
              "       161647.32979408, 177484.91371363, 177799.79984944, 166790.45791643,\n",
              "       205328.07821927, 177427.2671703 , 166115.49124856, 178751.55108337,\n",
              "       194297.78927991, 184479.32200521, 185497.87234419, 183322.86614628,\n",
              "       160144.39054858, 180770.64979204, 169837.62333332, 180500.19807268,\n",
              "       183467.17686272, 195531.75488622, 164279.13048219, 162690.20913198,\n",
              "       167398.00647099, 187340.45545608, 202202.0733416 , 171392.83099725,\n",
              "       211007.0082923 , 183801.67289625, 168202.8923066 , 180568.18775321,\n",
              "       147183.67487199, 205469.40944483, 193782.55567678, 171226.05068305,\n",
              "       196297.95829524, 179188.08992526, 196380.36629717, 164228.45886894,\n",
              "       170636.82788989, 158540.9478014 , 194822.36569096, 196053.0298783 ,\n",
              "       171070.36789383, 197034.75905586, 177174.53522173, 180008.18848549,\n",
              "       166335.40303655, 182242.80926507, 167839.37677928, 205939.81062562,\n",
              "       188683.1605554 , 178425.95613883, 196325.44221037, 198882.56607841,\n",
              "       206779.09404953, 173986.63505519, 172965.4764889 , 186220.96545812,\n",
              "       207348.81188454, 193283.74658483, 228617.96832543, 180174.32861073,\n",
              "       179714.63067704, 196526.00299899, 171369.32503826, 209219.84478702,\n",
              "       148356.66944092, 183433.47246608, 199202.89896087, 160387.6042639 ,\n",
              "       172725.05385186, 177030.47784202, 178298.21463312, 178818.74263267,\n",
              "       173257.6378262 , 174525.87942676, 181686.10402108, 178543.64785951,\n",
              "       169163.98078683, 162106.41614513, 168882.43710413, 174126.29715619,\n",
              "       181262.32999511, 176519.18031559, 223667.40455166, 194089.683858  ,\n",
              "       174378.77763204, 192834.96891717, 178762.17060199, 196896.74859634,\n",
              "       181722.42037304, 182477.50504601, 159488.71368395, 179007.60196438,\n",
              "       155537.86225268, 188108.24374884, 163883.22911797, 223055.58867228,\n",
              "       203310.21806988, 187222.6532646 , 151422.11693654, 185437.32052376,\n",
              "       208973.38076103, 163481.50151972, 186412.43860917, 185922.46568208,\n",
              "       185306.65066587, 187388.83337487, 195596.30770748, 189786.68527458,\n",
              "       183967.56154876, 201670.63436567, 178430.96672818, 196559.70925964,\n",
              "       180258.13121979, 186847.94478745, 158908.14606868, 154034.91744555,\n",
              "       176412.01271906, 191849.43907282, 163419.66372935, 180983.4438448 ,\n",
              "       190485.63407417, 164692.77864535, 193892.88002313, 182022.387106  ,\n",
              "       206260.09979503, 170351.96341076, 192474.81789935, 200443.7920562 ,\n",
              "       178657.79408374, 154672.42276304, 200918.01881249, 194822.36569096,\n",
              "       188137.90159798, 154892.77626996, 180269.86896412, 194138.51914518,\n",
              "       159355.71011616, 173550.02572753, 175332.23986997, 154287.26437551,\n",
              "       182782.55099007, 177199.61863882, 181956.54831479, 169854.43659114,\n",
              "       175075.785166  , 157025.94515546, 182852.32772198, 181499.39185067,\n",
              "       180848.22076594, 184361.99225845, 216855.2601491 , 180116.75255316,\n",
              "       175502.91810944, 176882.6939789 , 162537.52704471, 186570.12942178,\n",
              "       173756.81258969, 182271.50307236, 152324.94359318, 193053.05550235,\n",
              "       196666.55489768, 145997.6353777 , 157003.29270673, 185830.97190657,\n",
              "       179883.0570711 , 180953.24120117, 177086.47644148, 193808.31929826,\n",
              "       176468.65337149, 185635.13208315, 196395.96963243, 168743.00156714,\n",
              "       171557.32317862, 180660.68369159, 176156.55831397, 180340.21539923,\n",
              "       164391.23818231, 157699.90779644, 159650.30428585, 162931.20333622,\n",
              "       194798.3204991 , 157680.22741295, 185682.61834026, 183859.46041111,\n",
              "       221813.00948166, 146966.23033979, 180990.24148554, 191603.36565747,\n",
              "       223581.75819089, 186425.06987919, 196918.07136207, 168715.9501117 ,\n",
              "       171895.93627581, 182760.65109551, 178628.66595276, 191745.38637707,\n",
              "       157443.92553719, 196070.99739379, 189698.74069315, 157933.279456  ,\n",
              "       181987.2825102 , 159056.89024564, 171308.31398544, 188241.63789688,\n",
              "       188714.14808754, 161334.30119543, 182379.85568273, 165726.70761957,\n",
              "       182056.02474489, 187720.35920717, 175522.02692573, 172088.87265574,\n",
              "       145708.76433611, 180539.88079815, 162228.9356042 , 163299.47798017,\n",
              "       173554.48965838, 183642.19130423, 194631.10029958, 188506.43141227,\n",
              "       183000.43167958, 181150.55167912, 180054.27640744, 159856.23390973,\n",
              "       180655.10153503, 182067.76062521, 181625.66639947, 169556.83590242,\n",
              "       184733.12846644, 176901.09395407, 176385.10223515, 202916.22165349,\n",
              "       203717.4702958 , 193550.83009707, 196373.89617655, 172627.79693284,\n",
              "       153353.3341239 , 159932.1643654 , 180352.91901902, 178998.33706785,\n",
              "       201842.99870043, 181871.5988433 , 157090.56846248, 174744.40030523,\n",
              "       168468.00591648, 170575.49674259, 182207.6323195 , 182875.80134663,\n",
              "       180181.19673723, 188090.10080803, 195499.83011534, 163399.98334586,\n",
              "       175949.34272014, 182744.51434446, 149607.90567344, 151951.95540967,\n",
              "       188927.98406317, 212693.50295839, 180084.11894116, 192577.79611284,\n",
              "       161474.53486364, 159851.97773855])"
            ]
          },
          "metadata": {},
          "execution_count": 83
        }
      ]
    },
    {
      "cell_type": "code",
      "source": [
        "df=pd.DataFrame()\n",
        "df[\"y_actual\"]=y_test\n",
        "df[\"y_pred\"]=y_pred\n",
        "print(df)"
      ],
      "metadata": {
        "colab": {
          "base_uri": "https://localhost:8080/"
        },
        "id": "dubhkZpmvaOK",
        "outputId": "99a11c4f-5cac-4bd8-ac52-45a099a95ee5"
      },
      "execution_count": null,
      "outputs": [
        {
          "output_type": "stream",
          "name": "stdout",
          "text": [
            "          y_actual         y_pred\n",
            "0    194255.566949  182596.938735\n",
            "1    180650.342418  178021.512713\n",
            "2    148217.262541  182557.367483\n",
            "3    158682.460014  178392.493201\n",
            "4    165281.292597  177981.941461\n",
            "..             ...            ...\n",
            "433  173550.025728  181904.441823\n",
            "434  185770.606635  180005.021723\n",
            "435  181122.168677  175894.557913\n",
            "436  182782.550990  178936.597917\n",
            "437  179180.469245  180311.698927\n",
            "\n",
            "[438 rows x 2 columns]\n"
          ]
        }
      ]
    },
    {
      "cell_type": "code",
      "source": [
        "plt.scatter(x_train,y_train)\n"
      ],
      "metadata": {
        "colab": {
          "base_uri": "https://localhost:8080/",
          "height": 447
        },
        "id": "_gTd65NIywMk",
        "outputId": "2c1302c9-7e01-41ca-f9a3-8817ec920911"
      },
      "execution_count": null,
      "outputs": [
        {
          "output_type": "execute_result",
          "data": {
            "text/plain": [
              "<matplotlib.collections.PathCollection at 0x7c65f1231b70>"
            ]
          },
          "metadata": {},
          "execution_count": 90
        },
        {
          "output_type": "display_data",
          "data": {
            "text/plain": [
              "<Figure size 640x480 with 1 Axes>"
            ],
            "image/png": "[encoded data removed]"
          },
          "metadata": {}
        }
      ]
    },
    {
      "cell_type": "code",
      "source": [
        "plt.scatter(x_train,y_train)\n",
        "plt.plot(x_train,model.predict(x_train),color=\"red\")\n",
        "plt.title(\"Id vs Salesprice\")\n",
        "plt.xlabel(\"Id\")\n",
        "plt.ylabel(\"Salesprice\")"
      ],
      "metadata": {
        "colab": {
          "base_uri": "https://localhost:8080/",
          "height": 489
        },
        "id": "4sE_VfhVzGCq",
        "outputId": "cc6983be-7232-4e2e-f735-7d5a5d848254"
      },
      "execution_count": null,
      "outputs": [
        {
          "output_type": "execute_result",
          "data": {
            "text/plain": [
              "Text(0, 0.5, 'Salesprice')"
            ]
          },
          "metadata": {},
          "execution_count": 94
        },
        {
          "output_type": "display_data",
          "data": {
            "text/plain": [
              "<Figure size 640x480 with 1 Axes>"
            ],
            "image/png": "[encoded data removed]"
          },
          "metadata": {}
        }
      ]
    },
    {
      "cell_type": "code",
      "source": [
        "#7.visualisation for the best fit line"
      ],
      "metadata": {
        "id": "V0bVpgYA3eab"
      },
      "execution_count": null,
      "outputs": []
    },
    {
      "cell_type": "code",
      "source": [
        "plt.scatter(x_test,y_test)\n",
        "plt.plot(x_train,model.predict(x_train),color=\"red\")\n",
        "plt.title(\"Id vs Salesprice\")\n",
        "plt.xlabel(\"Id\")\n",
        "plt.ylabel(\"Salesprice\")"
      ],
      "metadata": {
        "colab": {
          "base_uri": "https://localhost:8080/",
          "height": 489
        },
        "id": "7MW9SBn30J0F",
        "outputId": "205f86d0-d3b3-4f7e-985f-1e61a1b48e84"
      },
      "execution_count": null,
      "outputs": [
        {
          "output_type": "execute_result",
          "data": {
            "text/plain": [
              "Text(0, 0.5, 'Salesprice')"
            ]
          },
          "metadata": {},
          "execution_count": 96
        },
        {
          "output_type": "display_data",
          "data": {
            "text/plain": [
              "<Figure size 640x480 with 1 Axes>"
            ],
            "image/png": "[encoded data removed]"
          },
          "metadata": {}
        }
      ]
    },
    {
      "cell_type": "code",
      "source": [],
      "metadata": {
        "id": "BiU2qUS34SCB"
      },
      "execution_count": null,
      "outputs": []
    }
  ]
}